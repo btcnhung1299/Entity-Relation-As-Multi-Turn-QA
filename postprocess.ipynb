{
 "cells": [
  {
   "cell_type": "code",
   "execution_count": 9,
   "metadata": {},
   "outputs": [],
   "source": [
    "import json\n",
    "from collections import defaultdict\n",
    "from os import listdir\n",
    "from os.path import isfile, join\n",
    "\n",
    "test_result = []\n",
    "prediction_dir = \"predictions\"\n",
    "files = [f for f in listdir(prediction_dir) if isfile(join(prediction_dir, f))]"
   ]
  },
  {
   "cell_type": "code",
   "execution_count": 25,
   "metadata": {},
   "outputs": [
    {
     "data": {
      "text/plain": [
       "['CLU\\tArsenal\\n',\n",
       " 'SCO\\t3-0\\n',\n",
       " 'CLU\\tArsenal\\n',\n",
       " 'TME\\t8\\n',\n",
       " 'PER\\tOzil\\n',\n",
       " 'PER\\tMustafi\\n',\n",
       " 'CLU\\tArsenal\\n',\n",
       " 'CLU\\tArsenal\\n',\n",
       " 'TME\\t8\\n',\n",
       " 'PER\\tAubameyang\\n',\n",
       " 'PER\\tMaitland-Niles\\n',\n",
       " 'CLU\\tArsenal\\n',\n",
       " 'TME\\t59\\n',\n",
       " 'PER\\tMkhitaryan\\n',\n",
       " 'CLU\\tArsenal\\n',\n",
       " 'TME\\t77\\n',\n",
       " 'SCO\\t3-0\\n',\n",
       " 'CLU\\tArsenal\\n',\n",
       " 'SCO\\t3-0\\n',\n",
       " 'SCO\\t3-0\\n',\n",
       " 'SCOP\\tAubameyang\\tArsenal\\n',\n",
       " 'SCOT\\t8\\tOzil\\n',\n",
       " 'SCOT\\t8\\tMustafi\\n',\n",
       " 'SCOP\\tOzil\\tArsenal\\n',\n",
       " 'SCOP\\tMustafi\\tArsenal\\n',\n",
       " 'SCOP\\tOzil\\tArsenal\\n',\n",
       " 'SCOP\\tMustafi\\tArsenal\\n',\n",
       " 'SCOT\\t59\\tAubameyang\\n',\n",
       " 'SCOP\\tMkhitaryan\\tArsenal\\n',\n",
       " 'SCOT\\t77\\tMkhitaryan\\n',\n",
       " 'SCOP\\tMkhitaryan\\tArsenal\\n']"
      ]
     },
     "execution_count": 25,
     "metadata": {},
     "output_type": "execute_result"
    }
   ],
   "source": [
    "file = files[10]\n",
    "entities = defaultdict(set)\n",
    "relations = defaultdict(set)\n",
    "match_summary = {}\n",
    "test_id = file.split('/')[-1].split('.')[0]\n",
    "\n",
    "with open(join(prediction_dir, file), 'r') as f:\n",
    "    lines = f.readlines()\n",
    "    \n",
    "lines"
   ]
  },
  {
   "cell_type": "code",
   "execution_count": 22,
   "metadata": {},
   "outputs": [
    {
     "name": "stdout",
     "output_type": "stream",
     "text": [
      "CLU SCO TME PER\n",
      "\n",
      "SCOP SCOT\n"
     ]
    }
   ],
   "source": [
    "for line in lines:\n",
    "    line = line.strip()\n",
    "    tokens = line.split(\"\\t\")\n",
    "    if len(tokens) == 2:\n",
    "        entities[tokens[0]].add(tokens[1])\n",
    "    else:\n",
    "        relations[tokens[0]].add((tokens[1], tokens[2]))\n",
    "    \n",
    "print(*entities)\n",
    "print()\n",
    "print(*relations)"
   ]
  },
  {
   "cell_type": "code",
   "execution_count": 16,
   "metadata": {},
   "outputs": [
    {
     "data": {
      "text/plain": [
       "['CLU\\tHải_Phòng\\n',\n",
       " 'CLU\\tQuảng_Nam\\n',\n",
       " 'CLU\\tHải_Phòng\\n',\n",
       " 'PER\\tStevens\\n',\n",
       " 'CLU\\tHải_Phòng\\n',\n",
       " 'TME\\t26\\n',\n",
       " 'PER\\tStevens\\n',\n",
       " 'PER\\tFagan\\n',\n",
       " 'CLU\\tHải_Phòng\\n',\n",
       " 'CLU\\tHải_Phòng\\n',\n",
       " 'TME\\t26\\n',\n",
       " 'TME\\t10 phút sau đó\\n',\n",
       " 'TME\\t45 phút hiệp 2\\n',\n",
       " 'SCO\\t2-0\\n',\n",
       " 'COMP\\tQuảng_Nam\\tHải_Phòng\\n',\n",
       " 'DEFE\\tQuảng_Nam\\tHải_Phòng\\n',\n",
       " 'SCOT\\t26\\tStevens\\n',\n",
       " 'SCOP\\tStevens\\tHải_Phòng\\n',\n",
       " 'SCOT\\t26\\tStevens\\n',\n",
       " 'SCOT\\t10 phút sau đó\\tFagan\\n',\n",
       " 'SCOP\\tStevens\\tHải_Phòng\\n',\n",
       " 'SCOP\\tFagan\\tHải_Phòng\\n']"
      ]
     },
     "execution_count": 16,
     "metadata": {},
     "output_type": "execute_result"
    }
   ],
   "source": [
    "lines"
   ]
  },
  {
   "cell_type": "code",
   "execution_count": 19,
   "metadata": {},
   "outputs": [
    {
     "data": {
      "text/plain": [
       "('Quảng_Nam', 'Hải_Phòng')"
      ]
     },
     "execution_count": 19,
     "metadata": {},
     "output_type": "execute_result"
    }
   ],
   "source": [
    "if len(entities.get('CLU', [])) == 2:\n",
    "    team1, team2 = tuple(entities['CLU'])\n",
    "team1, team2"
   ]
  },
  {
   "cell_type": "code",
   "execution_count": null,
   "metadata": {},
   "outputs": [],
   "source": [
    "\n",
    "        \n",
    "\n",
    "        # s1 > s2\n",
    "        s1, s2, st1, st2 = 0, 0, 0, 0\n",
    "        team1, team2 = \"\", \"\" \n",
    "\n",
    "        for score in entities.get('SCO', []):\n",
    "            try:\n",
    "                s = score.strip().split('-')\n",
    "                st1, st2 = int(s[0]), int(s[1])\n",
    "            except:\n",
    "                try:\n",
    "                    s = score.strip().split('–')\n",
    "                    st1, st2 = int(s[0]), int(s[1])\n",
    "                except:\n",
    "                    pass \n",
    "\n",
    "            if st1 + st2 > s1 + s2:\n",
    "                s1, s2 = max(st1, st2), min(st1, st2)\n",
    "\n",
    "        # check if there is a winner\n",
    "        flag = False\n",
    "        for club1, club2 in relations.get('DEFE', []):\n",
    "            team1, team2 = club1, club2 \n",
    "            flag = True \n",
    "\n",
    "        # check if it is a tie\n",
    "        if not flag:\n",
    "            for club1, club2 in relations.get('DEFE', []):\n",
    "                team1, team2 = club1, club2\n",
    "                flag = True \n",
    "\n",
    "        # check if we have another clue\n",
    "        if not flag:\n",
    "            for club1, club2 in relations.get('COMP', []):\n",
    "                team1, team2 = club1, club2\n",
    "\n",
    "        if not flag:\n",
    "            if len(entities.get('CLU', [])) == 2:\n",
    "                team1, team2 = tuple(entities['CLU'])\n",
    "\n",
    "        match_summary[\"players\"] = {\n",
    "            \"team1\": team1,\n",
    "            \"team2\": team2\n",
    "        }\n",
    "\n",
    "        match_summary[\"score_board\"] = {\n",
    "            \"score1\": str(s1),\n",
    "            \"score2\": str(s2) \n",
    "        }\n",
    "\n",
    "        # get score list \n",
    "        score_list = []\n",
    "        score_player = {}\n",
    "\n",
    "        for player, club in relations.get('SCOP', []):\n",
    "            score_player[player] = club \n",
    "\n",
    "        for time, player in relations.get('SCOT', []):\n",
    "            score_info = {\n",
    "                \"player_name\": player,\n",
    "                \"team\": score_player.get(player, \"\"),\n",
    "                \"time\": time\n",
    "            }\n",
    "            score_list.append(score_info)\n",
    "\n",
    "        match_summary[\"score_list\"] = score_list\n",
    "\n",
    "        # get card list \n",
    "        card_list = []\n",
    "        card_player = {}\n",
    "\n",
    "        for player, club in relations.get('CARP', []):\n",
    "            card_player[player] = club \n",
    "\n",
    "        for time, player in relations.get('CART', []):\n",
    "            card_info = {\n",
    "                \"player_name\": player,\n",
    "                \"team\": card_player.get(player, \"\"),\n",
    "                \"time\": time\n",
    "            }\n",
    "            card_list.append(card_info)\n",
    "\n",
    "        match_summary[\"card_list\"] = card_list\n",
    "\n",
    "        # get substitution list\n",
    "        sub_list = []\n",
    "        sub_time = {}\n",
    "\n",
    "        for player_in, time in relations.get('SUBT', []):\n",
    "            sub_time[player_in] = time\n",
    "\n",
    "        for player_in, player_out in relations.get('SUBP', []):\n",
    "            sub_info = {\n",
    "                \"player_in\": player_in,\n",
    "                \"player_out\": player_out,\n",
    "                \"time\": sub_time.get(player_in, '0')\n",
    "            }\n",
    "            sub_list.append(sub_info)\n",
    "\n",
    "        match_summary[\"substitution_list\"] = sub_list\n",
    "        test_result.append({\n",
    "            \"test_id\": test_id, \n",
    "            \"match_summary\": match_summary\n",
    "        })\n",
    "\n",
    "    with open(output_file, 'w') as f:\n",
    "        for article in test_result:\n",
    "            json.dump(article, f, ensure_ascii=False)\n",
    "            f.write('\\n')\n",
    "\n",
    "postprocess('predictions')"
   ]
  }
 ],
 "metadata": {
  "kernelspec": {
   "display_name": "Python 3",
   "language": "python",
   "name": "python3"
  },
  "language_info": {
   "codemirror_mode": {
    "name": "ipython",
    "version": 3
   },
   "file_extension": ".py",
   "mimetype": "text/x-python",
   "name": "python",
   "nbconvert_exporter": "python",
   "pygments_lexer": "ipython3",
   "version": "3.7.8"
  }
 },
 "nbformat": 4,
 "nbformat_minor": 4
}
