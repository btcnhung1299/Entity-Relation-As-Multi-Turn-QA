{
 "cells": [
  {
   "cell_type": "code",
   "execution_count": 70,
   "metadata": {},
   "outputs": [
    {
     "name": "stdout",
     "output_type": "stream",
     "text": [
      "Number of examples: 141\n"
     ]
    }
   ],
   "source": [
    "import json\n",
    "data = []\n",
    "with open(\"dev.jsonl\", \"r\") as f:\n",
    "    for line in f:\n",
    "        data.append(json.loads(line))\n",
    "print(\"Number of examples:\", len(data))"
   ]
  },
  {
   "cell_type": "code",
   "execution_count": 2,
   "metadata": {},
   "outputs": [],
   "source": [
    "ner_tag = set([\n",
    "    \"PER\",   # player\n",
    "    \"CLU\",   # club\n",
    "    \"TME\",   # time\n",
    "    \"NUM\",   # number \n",
    "])\n",
    "\n",
    "relation_tag = set([\n",
    "    \"COMP\",  # (CLU, CLU) compete with\n",
    "    \"DEFE\",  # (CLU, CLU) defeat / win over\n",
    "    # \"SCON\",  # (CLU, NUM) score\n",
    "    \"SCOP\",  # (CLU, PER) score player\n",
    "    \"SCOT\",  # (PER, TME) score time\n",
    "    \"CARP\",  # (CLU, PER) card player,\n",
    "    \"CART\",  # (PER, TIME) card time\n",
    "    \"SUBP\",  # (PER, PER) substitute players,\n",
    "    \"SUBT\",  # (PER, TIME) substitute time\n",
    "])"
   ]
  },
  {
   "cell_type": "markdown",
   "metadata": {},
   "source": [
    "Entity format:\n",
    "\n",
    "```\n",
    "<entity id> <ner_tag> <start_pos> <end_pos> <text>\n",
    "```\n",
    "\n",
    "Ví dụ:\n",
    "```\n",
    "T3-7\tGPE 522 531\tcommunity\n",
    "```"
   ]
  },
  {
   "cell_type": "code",
   "execution_count": 71,
   "metadata": {},
   "outputs": [],
   "source": [
    "class Entity():\n",
    "    global_id = 1\n",
    "    def __init__(self, ner_type, start_pos, end_pos, text):\n",
    "        self.id = f\"T-{Entity.global_id}\"\n",
    "        self.ner_type = ner_type\n",
    "        self.start_pos = start_pos\n",
    "        self.end_pos = end_pos\n",
    "        self.text = text\n",
    "        Entity.global_id += 1\n",
    "        \n",
    "    def __repr__(self):\n",
    "        return f\"{self.id}\\t{self.ner_type} {self.start_pos} {self.end_pos}\\t{self.text}\"\n",
    "        \n",
    "class Relation():\n",
    "    global_id = 1\n",
    "    def __init__(self, relation_type, *args):\n",
    "        self.id = f\"R-{Relation.global_id}\"\n",
    "        self.relation_type = relation_type\n",
    "        self.args = args\n",
    "        Relation.global_id += 1\n",
    "        \n",
    "    def __repr__(self):\n",
    "        res = f\"{self.id}\\t{self.relation_type}\"\n",
    "        for args_id, entity in enumerate(self.args):\n",
    "            res += f\" Arg{args_id + 1}:{entity.id}\"\n",
    "        return res"
   ]
  },
  {
   "cell_type": "code",
   "execution_count": 4,
   "metadata": {},
   "outputs": [],
   "source": [
    "from bs4 import BeautifulSoup\n",
    "\n",
    "def parse_paragraph(data):\n",
    "    event_texts = {0: \"\"}\n",
    "    event_paddings = {0: 0}\n",
    "    event_ids = []\n",
    "    e_id = None\n",
    "    content = \"\"\n",
    "    for html in data[\"html_annotation\"]:\n",
    "        for e in BeautifulSoup(html):\n",
    "            try:\n",
    "                e_id = int(e[\"event_id\"])\n",
    "                event_ids.append(e_id)\n",
    "                event_texts[e_id] = \"\"\n",
    "            except: pass\n",
    "            if e_id is None:\n",
    "                continue\n",
    "            event_texts[e_id] += e.text.strip() + \" \"\n",
    "    event_ids.sort()\n",
    "    \n",
    "    for i, event in enumerate(event_ids):\n",
    "        cur_event_ids = event_ids[i]\n",
    "        pre_event_ids = event_ids[i - 1] if i != 0 else 0\n",
    "        event_paddings[cur_event_ids] = event_paddings[pre_event_ids] + len(event_texts[pre_event_ids])\n",
    "        content += event_texts[cur_event_ids]\n",
    "    \n",
    "    event_texts[\"0\"] = content\n",
    "    return {\n",
    "        \"content\": content,\n",
    "        \"event_texts\": event_texts,\n",
    "        \"event_paddings\": event_paddings,\n",
    "    }"
   ]
  },
  {
   "cell_type": "code",
   "execution_count": 5,
   "metadata": {},
   "outputs": [],
   "source": [
    "def is_match(team1, team2):\n",
    "    team1 = team1.strip()\n",
    "    team2 = team2.strip()\n",
    "    return team1 in team2 or team2 in team1"
   ]
  },
  {
   "cell_type": "code",
   "execution_count": 42,
   "metadata": {},
   "outputs": [],
   "source": [
    "def parse_entity_relation(data, event_texts, event_paddings):\n",
    "    def parse_entity_other(ner_type, text, ref_event_ids):\n",
    "        text = text.strip()\n",
    "        for eid in ref_event_ids.split(\",\"):\n",
    "            pos = event_texts[int(eid)].lower().find(text.lower())\n",
    "            if pos != -1:\n",
    "                start_pos = event_paddings[int(eid)] + pos\n",
    "                end_pos = start_pos + len(text)\n",
    "                return Entity(ner_type, start_pos, end_pos, text)\n",
    "            \n",
    "        edited_texts = []\n",
    "        if ner_type == \"PER\" and len(text.split()) != 1:\n",
    "            edited_texts = text.split()\n",
    "        elif ner_type == \"TME\" and \"'\" in text:\n",
    "            text = text.replace(\"'\", \"\")\n",
    "            edited_texts = [\"phút thứ \" + text, \"phút \" + text] \n",
    "        for text in edited_texts:\n",
    "            edited_ner = parse_entity_other(ner_type, text, ref_event_ids)\n",
    "            if edited_ner.start_pos != edited_ner.end_pos:\n",
    "                return edited_ner\n",
    "            \n",
    "        return Entity(ner_type, -1, -1, text)\n",
    "    \n",
    "    def parse_entity_score(ner_type, score1, score2, ref_event_ids):\n",
    "        edited_scores = [score1 + \"-\" + score2, score1 + \" - \" + score2, score2 + \"-\" + score1, score2 + \" - \" + score1]\n",
    "        for eid in ref_event_ids.split(\",\"):\n",
    "            for score in edited_scores:\n",
    "                pos = event_texts[int(eid)].find(score)\n",
    "                if pos != -1:\n",
    "                    start_pos = event_paddings[int(eid)] + pos\n",
    "                    end_pos = start_pos + len(score)\n",
    "                    return Entity(ner_type, start_pos, end_pos, score)\n",
    "        return Entity(ner_type, -1, -1, score1 + \"-\" + score2)\n",
    "    \n",
    "    \n",
    "    \n",
    "    id = data[\"train_id\"]\n",
    "    summary = data[\"match_summary\"]\n",
    "    team = summary[\"players\"]\n",
    "    score_board = summary[\"score_board\"]\n",
    "    score_list = summary[\"score_list\"]\n",
    "    card_list = summary[\"card_list\"]\n",
    "    subst_list = summary[\"substitution_list\"]\n",
    "    \n",
    "    entities, relations = [], []\n",
    "    \n",
    "    # Yield teams' name\n",
    "    team1_ner = parse_entity_other(\"CLU\", team[\"team1\"], team[\"ref_event_ids\"])\n",
    "    team2_ner = parse_entity_other(\"CLU\", team[\"team2\"], team[\"ref_event_ids\"])\n",
    "    entities.extend([team1_ner, team2_ner])\n",
    "    relations.append(Relation(\"COMP\", team1_ner, team2_ner))\n",
    "    \n",
    "    # Yield scores\n",
    "    score_ner = parse_entity_score(\"SCO\", score_board[\"score1\"], score_board[\"score2\"], score_board[\"ref_event_ids\"])\n",
    "    # score_ner = parse_entity_score(\"SCO\", score_board[\"score1\"], score_board[\"score2\"], \"0\")\n",
    "    entities.append(score_ner)\n",
    "    if int(score_board[\"score1\"]) > int(score_board[\"score2\"]):\n",
    "        relations.append(Relation(\"DEFE\", team1_ner, team2_ner))\n",
    "    elif int(score_board[\"score1\"]) < int(score_board[\"score2\"]):\n",
    "        relations.append(Relation(\"DEFE\", team2_ner, team1_ner))\n",
    "    else:\n",
    "        relations.append(Relation(\"DRAW\", team1_ner, team2_ner))\n",
    "    \n",
    "    # Yield time\n",
    "    for info in score_list:\n",
    "        player = parse_entity_other(\"PER\", info[\"player_name\"], info[\"ref_event_ids\"])\n",
    "        time = parse_entity_other(\"TME\", info[\"time\"], info[\"ref_event_ids\"])\n",
    "        team = team1_ner if info[\"team\"] == team1_ner.text else team2_ner\n",
    "        entities.extend([player, time])\n",
    "        relations.append(Relation(\"SCOP\", team, player))\n",
    "        relations.append(Relation(\"SCOT\", player, time))\n",
    "        \n",
    "        \n",
    "    for info in card_list:\n",
    "        player = parse_entity_other(\"PER\", info[\"player_name\"], info[\"ref_event_ids\"])\n",
    "        time = parse_entity_other(\"TME\", info[\"time\"], info[\"ref_event_ids\"])\n",
    "        team = team1_ner if is_match(info[\"team\"], team1_ner.text) else team2_ner\n",
    "        entities.extend([player, time])\n",
    "        relations.append(Relation(\"CARP\", team, player))\n",
    "        relations.append(Relation(\"CART\", player, time))\n",
    "        \n",
    "    for info in subst_list:\n",
    "        player_in = parse_entity_other(\"PER\", info[\"player_in\"], info[\"ref_event_ids\"])\n",
    "        player_out = parse_entity_other(\"PER\", info[\"player_out\"], info[\"ref_event_ids\"])\n",
    "        entities.extend([player_in, player_out, time])\n",
    "        relations.append(Relation(\"SUBP\", player_out, player_in))\n",
    "        if \"time\" in info:\n",
    "            time = parse_entity_other(\"TME\", info[\"time\"], info[\"ref_event_ids\"])\n",
    "            relations.append(Relation(\"SUBT\", player_in, time))\n",
    "        \n",
    "    return entities, relations"
   ]
  },
  {
   "cell_type": "code",
   "execution_count": null,
   "metadata": {},
   "outputs": [],
   "source": []
  },
  {
   "cell_type": "code",
   "execution_count": 72,
   "metadata": {},
   "outputs": [
    {
     "name": "stdout",
     "output_type": "stream",
     "text": [
      "T-1\tCLU 119 130\tTây Ban Nha\n",
      "T-2\tCLU 151 161\tCosta Rica\n",
      "T-3\tSCO 1966 1969\t5-0\n",
      "T-4\tPER 510 520\tJordi Alba\n",
      "T-7\tTME -1 -1\tphút 6\n",
      "T-8\tPER 804 817\tAlvaro Morata\n",
      "T-10\tTME 795 802\tphút 23\n",
      "T-11\tPER 1247 1258\tDavid Silva\n",
      "T-13\tTME 1293 1300\tphút 51\n",
      "T-14\tPER 1247 1258\tDavid Silva\n",
      "T-15\tTME 1179 1179\t\n",
      "T-16\tPER 1781 1795\tAndres Iniesta\n",
      "T-18\tTME 1762 1769\tphút 73\n",
      "\n",
      "R-1\tCOMP Arg1:T-1 Arg2:T-2\n",
      "R-2\tDEFE Arg1:T-1 Arg2:T-2\n",
      "R-3\tSCOP Arg1:T-2 Arg2:T-4\n",
      "R-4\tSCOT Arg1:T-4 Arg2:T-7\n",
      "R-5\tSCOP Arg1:T-2 Arg2:T-8\n",
      "R-6\tSCOT Arg1:T-8 Arg2:T-10\n",
      "R-7\tSCOP Arg1:T-2 Arg2:T-11\n",
      "R-8\tSCOT Arg1:T-11 Arg2:T-13\n",
      "R-9\tSCOP Arg1:T-2 Arg2:T-14\n",
      "R-10\tSCOT Arg1:T-14 Arg2:T-15\n",
      "R-11\tSCOP Arg1:T-2 Arg2:T-16\n",
      "R-12\tSCOT Arg1:T-16 Arg2:T-18\n"
     ]
    }
   ],
   "source": [
    "sample_idx = 0\n",
    "paragraph = parse_paragraph(data[sample_idx])\n",
    "content, event_texts, event_paddings = paragraph[\"content\"], paragraph[\"event_texts\"], paragraph[\"event_paddings\"]\n",
    "entities, relations = parse_entity_relation(data[sample_idx], event_texts, event_paddings)\n",
    "\n",
    "print(*entities, sep=\"\\n\")\n",
    "print()\n",
    "print(*relations, sep=\"\\n\")"
   ]
  },
  {
   "cell_type": "code",
   "execution_count": 74,
   "metadata": {},
   "outputs": [],
   "source": [
    "!mkdir dev"
   ]
  },
  {
   "cell_type": "code",
   "execution_count": 75,
   "metadata": {},
   "outputs": [
    {
     "name": "stderr",
     "output_type": "stream",
     "text": [
      "100%|██████████| 141/141 [00:02<00:00, 63.67it/s]\n"
     ]
    }
   ],
   "source": [
    "from tqdm import tqdm\n",
    "\n",
    "for x in tqdm(data):\n",
    "    file_id = x[\"train_id\"]\n",
    "    para = parse_paragraph(x)\n",
    "    entities, relations = parse_entity_relation(x, para[\"event_texts\"], para[\"event_paddings\"])\n",
    "    \n",
    "    with open(f\"./dev/{file_id}.txt\", \"w\") as f:\n",
    "        f.write(content)\n",
    "    with open(f\"./dev/{file_id}.ann\", \"w\") as f:\n",
    "        for entity in entities:\n",
    "            f.write(str(entity) + \"\\n\")\n",
    "        for relation in relations:\n",
    "            f.write(str(relation) + \"\\n\")"
   ]
  },
  {
   "cell_type": "code",
   "execution_count": 29,
   "metadata": {},
   "outputs": [
    {
     "name": "stdout",
     "output_type": "stream",
     "text": [
      "convert_to_ner_relation.ipynb  test.jsonl  train.jsonl\n",
      "dev.jsonl\t\t       train\t   train_dev_split.ipynb\n"
     ]
    }
   ],
   "source": [
    "!ls"
   ]
  },
  {
   "cell_type": "code",
   "execution_count": 68,
   "metadata": {},
   "outputs": [
    {
     "data": {
      "text/plain": [
       "{'players': {'team1': 'Bayern Munich',\n",
       "  'team2': 'Real Madrid',\n",
       "  'ref_event_ids': '1'},\n",
       " 'score_board': {'score1': '2', 'score2': '4', 'ref_event_ids': '7'},\n",
       " 'score_list': [{'player_name': ' Lewandowski ',\n",
       "   'time': '',\n",
       "   'team': 'Bayern Munich',\n",
       "   'ref_event_ids': '2'},\n",
       "  {'player_name': 'Cristiano Ronaldo',\n",
       "   'time': '',\n",
       "   'team': 'Real Madrid',\n",
       "   'ref_event_ids': '3'},\n",
       "  {'player_name': 'Cristiano Ronaldo',\n",
       "   'time': \"105'\",\n",
       "   'team': 'Real Madrid',\n",
       "   'ref_event_ids': '6'},\n",
       "  {'player_name': 'Cristiano Ronaldo',\n",
       "   'time': \"109'\",\n",
       "   'team': 'Real Madrid',\n",
       "   'ref_event_ids': '7'},\n",
       "  {'player_name': 'Asensio',\n",
       "   'time': \"112'\",\n",
       "   'team': 'Real Madrid',\n",
       "   'ref_event_ids': '7'}],\n",
       " 'card_list': [{'player_name': 'Vidal ',\n",
       "   'time': \"84'\",\n",
       "   'team': 'Bayern Munich',\n",
       "   'ref_event_ids': '5'}],\n",
       " 'substitution_list': [{'player_in': 'Kimmich',\n",
       "   'time': '84',\n",
       "   'player_out': 'Lewandowski',\n",
       "   'ref_event_ids': '5'}]}"
      ]
     },
     "execution_count": 68,
     "metadata": {},
     "output_type": "execute_result"
    }
   ],
   "source": [
    "data[375][\"match_summary\"]"
   ]
  },
  {
   "cell_type": "code",
   "execution_count": 52,
   "metadata": {},
   "outputs": [],
   "source": [
    "data[346][\"match_summary\"][\"card_list\"] = []"
   ]
  },
  {
   "cell_type": "code",
   "execution_count": 67,
   "metadata": {},
   "outputs": [],
   "source": [
    "data[375][\"match_summary\"][\"score_list\"][1][\"ref_event_ids\"] = \"3\""
   ]
  },
  {
   "cell_type": "code",
   "execution_count": 62,
   "metadata": {},
   "outputs": [
    {
     "data": {
      "text/plain": [
       "'Tuy nhiên Cristiano Ronaldo đã dội một gáo nước lạnh vào ý chí chiến đấu của nhà ĐKVĐ Bundesliga. Ngôi sao người Bồ Đào Nha đã thực hiện cú đánh đầu chuẩn xác trong vòng cấm để gỡ hòa 1-1 cho Real Madrid sau quả tạt của Casemiro. Ở tuổi 32, liệu có mấy cầu thủ làm được như CR7. '"
      ]
     },
     "execution_count": 62,
     "metadata": {},
     "output_type": "execute_result"
    }
   ],
   "source": [
    "para[\"event_texts\"][3]"
   ]
  },
  {
   "cell_type": "code",
   "execution_count": null,
   "metadata": {},
   "outputs": [],
   "source": []
  }
 ],
 "metadata": {
  "kernelspec": {
   "display_name": "Python 3",
   "language": "python",
   "name": "python3"
  },
  "language_info": {
   "codemirror_mode": {
    "name": "ipython",
    "version": 3
   },
   "file_extension": ".py",
   "mimetype": "text/x-python",
   "name": "python",
   "nbconvert_exporter": "python",
   "pygments_lexer": "ipython3",
   "version": "3.7.8"
  }
 },
 "nbformat": 4,
 "nbformat_minor": 4
}
