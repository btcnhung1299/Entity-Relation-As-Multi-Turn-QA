{
 "cells": [
  {
   "cell_type": "code",
   "execution_count": 4,
   "metadata": {},
   "outputs": [],
   "source": [
    "import json"
   ]
  },
  {
   "cell_type": "markdown",
   "metadata": {},
   "source": [
    "# Question template (2 levels)\n"
   ]
  },
  {
   "cell_type": "markdown",
   "metadata": {},
   "source": [
    "## Level 1\n",
    "Question template cho level 1\n",
    "\n",
    "> liệt kê tất cả < type of entity > trong bài báo "
   ]
  },
  {
   "cell_type": "markdown",
   "metadata": {},
   "source": [
    "## Level 2\n",
    "Question template cho relation (entity 1, relation, entity 2) là \n",
    "> liệt kê <type of entity 2> <relation> <type of entity 1> <entity 1> XXX\n",
    "\n",
    "- CLU-COMP-CLU: liệt kê *đội* **đấu với** *đội* xxx \n",
    "- CLU-DEFE-CLU: liệt kê *đội* **bị đánh bại bởi** *đội* xxx \n",
    "- CLU-SCOP-PER: liệt kê *cầu thủ* **ghi bàn cho** *đội* xxx\n",
    "- PER-SCOT-TME: liệt kê *mốc thời gian* **là thời điểm ghi bàn của** *cầu thủ* xxx \n",
    "- CLU-CARP-PER: liệt kê *cầu thủ* **nhận thẻ phạt thuộc** *đội* xxx\n",
    "- PER-CART-TME: liệt kê *mốc thời gian* **là thời điểm nhận thẻ phạt của** *cầu thủ* xxx     \n",
    "- PER-SUBP-PER: liệt kê *cầu thủ* **thay thế cho** *cầu thủ* xxx\n",
    "- PER-SUBT-TME: liệt kê *mốc thời gian* **là thời điểm thay thế của** *cầu thủ* xxx "
   ]
  },
  {
   "cell_type": "code",
   "execution_count": 12,
   "metadata": {},
   "outputs": [
    {
     "name": "stdout",
     "output_type": "stream",
     "text": [
      "Writing generate_all_questions.py\n"
     ]
    }
   ],
   "source": [
    "%%writefile generate_all_questions.py\n",
    "\n",
    "import json \n",
    "\n",
    "zalo_entity_tags = [\n",
    "    \"PER\",   # player\n",
    "    \"CLU\",   # club\n",
    "    \"TME\"   # time\n",
    "]\n",
    "\n",
    "zalo_entity_names = [\n",
    "    \"cầu thủ\",\n",
    "    \"đội bóng\",\n",
    "    \"mốc thời gian\"\n",
    "]\n",
    "\n",
    "zalo_relation_tags = [\n",
    "    \"COMP\",  # (CLU, CLU) compete with\n",
    "    \"DEFE\",  # (CLU, CLU) defeat / win over\n",
    "    \"SCOP\",  # (CLU, PER) score player\n",
    "    \"SCOT\",  # (PER, TME) score time\n",
    "    \"CARP\",  # (CLU, PER) card player,\n",
    "    \"CART\",  # (PER, TIME) card time\n",
    "    \"SUBP\",  # (PER, PER) substitute players,\n",
    "    \"SUBT\",  # (PER, TIME) substitute time\n",
    "]\n",
    "\n",
    "zalo_relations_names = [\n",
    "    \"đấu với\",\n",
    "    \"bị đánh bại bởi\",\n",
    "    \"ghi bàn cho\",\n",
    "    \"là thời điểm ghi bàn của\",\n",
    "    \"nhận thẻ phạt thuộc\",\n",
    "    \"là thời điểm nhận thẻ phạt của\",    \n",
    "    \"thay thế cho\",\n",
    "    \"là thời điểm thay thế của\"\n",
    "]\n",
    "\n",
    "\n",
    "if __name__ == \"__main__\":\n",
    "    templates = {\"qa_turn1\":{},\"qa_turn2\":{}}\n",
    "    \n",
    "    for head_entity, head_entity_name in zip(zalo_entity_tags, zalo_entity_names):\n",
    "        templates['qa_turn1'][head_entity] = \"liệt kê tất cả {} trong bài báo.\".format(head_entity_name)\n",
    "        \n",
    "        for relation, relation_name in zip(zalo_relation_tags, zalo_relations_names):\n",
    "            for tail_entity, tail_entity_name in zip(zalo_entity_tags, zalo_entity_names):\n",
    "                templates['qa_turn2'][str((head_entity, relation, tail_entity))] = \\\n",
    "                    \"liệt kê {} {} {} XXX.\".format(tail_entity_name, relation_name, head_entity_name)\n",
    "                \n",
    "    with open(\"zalo_all.json\", \"w\") as f:\n",
    "        json.dump(templates, f)\n",
    "                "
   ]
  },
  {
   "cell_type": "code",
   "execution_count": 13,
   "metadata": {},
   "outputs": [],
   "source": [
    "!python generate_all_questions.py"
   ]
  },
  {
   "cell_type": "code",
   "execution_count": 21,
   "metadata": {},
   "outputs": [
    {
     "name": "stdout",
     "output_type": "stream",
     "text": [
      "Overwriting generate_meaningful_questions.py\n"
     ]
    }
   ],
   "source": [
    "%%writefile generate_meaningful_questions.py\n",
    "\n",
    "import json \n",
    "\n",
    "zalo_entities = {\n",
    "    \"PER\": \"cầu thủ\",\n",
    "    \"CLU\": \"đội bóng\", \n",
    "    \"TME\": \"mốc thời gian\"\n",
    "}\n",
    "\n",
    "zalo_entity_pairs = [\n",
    "    (\"CLU\", \"CLU\"),\n",
    "    (\"CLU\", \"CLU\"),\n",
    "    (\"CLU\", \"PER\"),\n",
    "    (\"PER\", \"TME\"),\n",
    "    (\"CLU\", \"PER\"),\n",
    "    (\"PER\", \"TME\"),\n",
    "    (\"PER\", \"PER\"),\n",
    "    (\"PER\", \"TME\")\n",
    "]\n",
    "\n",
    "zalo_relations = {\n",
    "    \"COMP\": \"đấu với\",\n",
    "    \"DEFE\": \"bị đánh bại bởi\",\n",
    "    \"SCOP\": \"ghi bàn cho\",\n",
    "    \"SCOT\": \"là thời điểm ghi bàn của\",\n",
    "    \"CARP\": \"nhận thẻ phạt thuộc\",\n",
    "    \"CART\": \"là thời điểm nhận thẻ phạt của\", \n",
    "    \"SUBP\": \"thay thế cho\",\n",
    "    \"SUBT\": \"là thời điểm thay thế của\"\n",
    "}\n",
    "\n",
    "if __name__ == \"__main__\":\n",
    "    templates = {\"qa_turn1\":{},\"qa_turn2\":{}}\n",
    "    \n",
    "    for head_entity, head_entity_name in zalo_entities.items():\n",
    "        templates['qa_turn1'][head_entity] = \"liệt kê tất cả {} trong bài báo.\".format(head_entity_name)\n",
    "        \n",
    "    for entity_pair, relation in zip(zalo_entity_pairs, zalo_relations.keys()):\n",
    "        head_entity, tail_entity = entity_pair\n",
    "        templates['qa_turn2'][str((head_entity, relation, tail_entity))] = \\\n",
    "            \"liệt kê {} {} {} XXX.\".format(zalo_entities[tail_entity], \n",
    "                                           zalo_relations[relation],\n",
    "                                           zalo_entities[head_entity])    \n",
    "    with open(\"zalo_meaningful.json\", \"w\") as f:\n",
    "        json.dump(templates, f)\n",
    "                "
   ]
  },
  {
   "cell_type": "code",
   "execution_count": 22,
   "metadata": {},
   "outputs": [],
   "source": [
    "!python generate_meaningful_questions.py"
   ]
  }
 ],
 "metadata": {
  "kernelspec": {
   "display_name": "Python 3",
   "language": "python",
   "name": "python3"
  },
  "language_info": {
   "codemirror_mode": {
    "name": "ipython",
    "version": 3
   },
   "file_extension": ".py",
   "mimetype": "text/x-python",
   "name": "python",
   "nbconvert_exporter": "python",
   "pygments_lexer": "ipython3",
   "version": "3.8.5"
  }
 },
 "nbformat": 4,
 "nbformat_minor": 4
}
